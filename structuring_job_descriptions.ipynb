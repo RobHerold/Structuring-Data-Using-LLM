{
 "cells": [
  {
   "cell_type": "markdown",
   "id": "1b1f84ba",
   "metadata": {},
   "source": [
    "# Structuring Unstructered Data Using ChatGPT"
   ]
  },
  {
   "cell_type": "code",
   "execution_count": 23,
   "id": "90ba86d8",
   "metadata": {},
   "outputs": [],
   "source": [
    "import pandas as pd\n",
    "import numpy as np\n",
    "import openai\n",
    "import matplotlib.pyplot as plt"
   ]
  },
  {
   "cell_type": "code",
   "execution_count": 2,
   "id": "d49d38b5",
   "metadata": {},
   "outputs": [],
   "source": [
    "job_descriptions = pd.read_csv('linkedin_data_scientist_job_descriptions.csv') "
   ]
  },
  {
   "cell_type": "markdown",
   "id": "411a86da",
   "metadata": {},
   "source": [
    "Initial file contains 50 Remote Data Scientist job descriptions from LinkedIn.  \n",
    "The fields include data that is structured within the job descriptions as well as the unstructured \"Description\" field that contains the text description of the job."
   ]
  },
  {
   "cell_type": "code",
   "execution_count": 3,
   "id": "27bc476f",
   "metadata": {},
   "outputs": [
    {
     "name": "stdout",
     "output_type": "stream",
     "text": [
      "<class 'pandas.core.frame.DataFrame'>\n",
      "RangeIndex: 50 entries, 0 to 49\n",
      "Data columns (total 14 columns):\n",
      " #   Column          Non-Null Count  Dtype \n",
      "---  ------          --------------  ----- \n",
      " 0   JobID           50 non-null     int64 \n",
      " 1   Title           50 non-null     object\n",
      " 2   Company         50 non-null     object\n",
      " 3   Url             50 non-null     object\n",
      " 4   Location        50 non-null     object\n",
      " 5   Category        50 non-null     object\n",
      " 6   SeniorityLevel  50 non-null     object\n",
      " 7   EmploymentType  50 non-null     object\n",
      " 8   JobFunction     50 non-null     object\n",
      " 9   Industries      50 non-null     object\n",
      " 10  PostedTime      50 non-null     object\n",
      " 11  PostedDate      50 non-null     object\n",
      " 12  NumApplicants   50 non-null     object\n",
      " 13  Description     50 non-null     object\n",
      "dtypes: int64(1), object(13)\n",
      "memory usage: 5.6+ KB\n"
     ]
    }
   ],
   "source": [
    "job_descriptions.info()"
   ]
  },
  {
   "cell_type": "markdown",
   "id": "13c46bd9",
   "metadata": {},
   "source": [
    "In order to extract more structured data from the job description, the following code passes the \"description\" text field to ChatGPT along with specific instructions on what data to extract and how to format the results. \n",
    "\n",
    "There are three different sections, each focusing on extracting a different set of data: \n",
    "1. Required Job Experience\n",
    "2. Salary\n",
    "3. Technical Skills"
   ]
  },
  {
   "cell_type": "markdown",
   "id": "7ddda15d",
   "metadata": {},
   "source": [
    "## Process and Prompts"
   ]
  },
  {
   "cell_type": "markdown",
   "id": "4b72edc1",
   "metadata": {},
   "source": [
    "In order to access the Open AI API, first provide the api_key."
   ]
  },
  {
   "cell_type": "code",
   "execution_count": null,
   "id": "2e26c3da",
   "metadata": {},
   "outputs": [],
   "source": [
    "openai.api_key = api_key_here"
   ]
  },
  {
   "cell_type": "markdown",
   "id": "2ab31335",
   "metadata": {},
   "source": [
    "For each session/conversation with ChatGPT, there is a \"System\" and a \"User\" role. For each session a prompt is provided for both roles. Below is a description of each role according to ChatGPT.\n",
    "  \n",
    "System Role - Used to define the behavior, personality, or context of the assistant before the actual conversation starts. The purpose of the systems prompt is to set the initial instructions for the assistant and help steer the tone, expertise, boundaries or other aspects of how the assistant should respond. It is submitted once per conversions/session.  \n",
    "\n",
    "User Role - Represents input from the end user. It is the prompt or question that the system is expected to respond to. The \"user_prompt\" in the code below is written to be submitted with each job description."
   ]
  },
  {
   "cell_type": "markdown",
   "id": "f22c8add",
   "metadata": {},
   "source": [
    "## Extracting Job Experience Requirement\n",
    "\n",
    "This first request from ChatGPT is to classify job descriptions into one of five experience level buckets based on the number of years of professional experience listed in the job description.  \n",
    "The requestd output is a single digit between 1-5 indicating the experience level based on the rubric provided in the prompt."
   ]
  },
  {
   "cell_type": "code",
   "execution_count": 5,
   "id": "bd50a4d9",
   "metadata": {},
   "outputs": [],
   "source": [
    "#Prompt for System Role\n",
    "system_prompt_exp = \"\"\"You are a recruiting assistant. Your task is to classify job descriptions into one of five experience level buckets based on the number of years of professional experience listed in the job description.\n",
    "\n",
    "The experience level buckets are:\n",
    "\n",
    "1. Entry Level (0-2 years)\n",
    "2. Junior Level (2-5 years)\n",
    "3. Mid Level (5-10 years)\n",
    "4. Senior Level (10-15 years)\n",
    "5. Executive Level (15+ years)\n",
    "\n",
    "When given a job description, analyze the text to determine the total years of professional experience and classify the resume into the appropriate experience level bucket.\"\"\"\n"
   ]
  },
  {
   "cell_type": "code",
   "execution_count": 6,
   "id": "79214db2",
   "metadata": {},
   "outputs": [],
   "source": [
    "#Prompt for User Role\n",
    "user_prompt_exp = lambda jobdescrip: f\"\"\"I have a job description, and I need to identify the required experience level. Here are the experience level buckets:\n",
    "\n",
    "1 = Entry Level (0-2 years)\n",
    "2 = Junior Level (2-5 years)\n",
    "3 = Mid Level (5-10 years)\n",
    "4 = Senior Level (10-15 years)\n",
    "5 = Executive Level (15+ years)\n",
    "\n",
    "Please analyze the following job description text and identify the desired experience level. Ensure your response is a single digit between 1-5 indicating the experience level based on the above rubric.\n",
    "\n",
    "### Job Description\n",
    "\n",
    "{jobdescrip}\n",
    "\n",
    "\"\"\""
   ]
  },
  {
   "cell_type": "markdown",
   "id": "4b5a7793",
   "metadata": {},
   "source": [
    "Following code loops through each job description, prompts ChatGPT to extract the requested data and compiles the ChatGPT output."
   ]
  },
  {
   "cell_type": "code",
   "execution_count": 7,
   "id": "7b2581de",
   "metadata": {},
   "outputs": [],
   "source": [
    "exp_level_list = []\n",
    "\n",
    "# Extract Experience Data for Each JD\n",
    "for i in range(len(job_descriptions)):\n",
    "    \n",
    "    prompt = user_prompt_exp(job_descriptions['Description'][i])\n",
    "    \n",
    "    response = openai.chat.completions.create(\n",
    "      model=\"gpt-4o\",\n",
    "      messages=[\n",
    "        {\"role\": \"system\", \"content\": system_prompt_exp},\n",
    "        {\"role\": \"user\", \"content\": prompt}\n",
    "      ],\n",
    "      n=1,\n",
    "      temperature = 0.1\n",
    "    )\n",
    "    \n",
    "    exp_level_list.append(response.choices[0].message.content)"
   ]
  },
  {
   "cell_type": "markdown",
   "id": "2d80a784",
   "metadata": {},
   "source": [
    "Compiled output from the job experience request is a list of numbers (output as strings) indicating the level of required experience within each job description"
   ]
  },
  {
   "cell_type": "code",
   "execution_count": 8,
   "id": "27b5d27f",
   "metadata": {},
   "outputs": [
    {
     "name": "stdout",
     "output_type": "stream",
     "text": [
      "['3', '3', '2', '3', '1']\n"
     ]
    }
   ],
   "source": [
    "print(exp_level_list[:5])"
   ]
  },
  {
   "cell_type": "markdown",
   "id": "c6f8ea2f",
   "metadata": {},
   "source": [
    "Final step in the job experience request is to convert the compiled ChatGPT output to integers and then add it to the job_description dataframe"
   ]
  },
  {
   "cell_type": "code",
   "execution_count": 9,
   "id": "8f09a0ce",
   "metadata": {},
   "outputs": [],
   "source": [
    "exp_level_arr = np.array(exp_level_list).astype(int)\n",
    "job_descriptions['exp_level'] = exp_level_arr"
   ]
  },
  {
   "cell_type": "markdown",
   "id": "436864c5",
   "metadata": {},
   "source": [
    "## Extracting Salary\n",
    "\n",
    "Similar to the job experience request, the salary request ask ChatGPT to classify each job description into salary buckets. In addition, the prompt requests that ChatGPT returns the salary range provided in the job description. There are specfic instructions on how to output the data so it can easily be parsed and added to the job description dataframe.   "
   ]
  },
  {
   "cell_type": "code",
   "execution_count": 10,
   "id": "c9421aac",
   "metadata": {},
   "outputs": [],
   "source": [
    "#Prompt for System Role\n",
    "system_prompt_salary = \"\"\"You are a recruiting assistant. Your task is to classify job decriptions into one of five salary level buckets based on the salary range listed in the job description. \n",
    "\n",
    "Classify the salary based on the upper bound of salary range provided in the job description.\n",
    "\n",
    "The experience level buckets are:\n",
    "\n",
    "0. Salary Not Provided\n",
    "1. < $100K\n",
    "2. $101K-$150K\n",
    "3. $151K-$175K\n",
    "4. $176K-$200K\n",
    "5. $201K-$250K\n",
    "6. > $250K\n",
    "\n",
    "When given a job description, analyze the text to determine the total years of professional experience and classify the resume into the appropriate experience level bucket.\"\"\""
   ]
  },
  {
   "cell_type": "code",
   "execution_count": 11,
   "id": "53783501",
   "metadata": {},
   "outputs": [],
   "source": [
    "#Prompt for User Role\n",
    "user_prompt_salary = lambda jobdescrip: f\"\"\"I have a job description, and I need to identify the salary level provided in the description. Here are the salary buckets:\n",
    "\n",
    "0 = Salary Not Provided\n",
    "1 = < $100K\n",
    "2 = $101K-$150K\n",
    "3 = $151K-$175K\n",
    "4 = $176K-$200K\n",
    "5 = $201K-$250K\n",
    "6 = > $250K\n",
    "\n",
    "Analyze the following job description text and identify the salary. \n",
    "\n",
    "Provide two outputs:\n",
    "1. Provide the salary range given in the job description\n",
    "2. Provide the single digit between 0-6 indicating the salary level based on the above rubric.\n",
    "\n",
    "Format the outputs as follows: \n",
    "\n",
    "Salary Range ; 0-5\n",
    "\n",
    "### Job Description\n",
    "\n",
    "{jobdescrip}\n",
    "\"\"\""
   ]
  },
  {
   "cell_type": "markdown",
   "id": "a2875d89",
   "metadata": {},
   "source": [
    "As with the job experience request, the following code loops through each job description, prompts ChatGPT to extract the requested data and compiles the ChatGPT output."
   ]
  },
  {
   "cell_type": "code",
   "execution_count": 12,
   "id": "c0aafec8",
   "metadata": {},
   "outputs": [],
   "source": [
    "salary_level_list = []\n",
    "\n",
    "# Extract Salary Data for Each JD\n",
    "for i in range(len(job_descriptions)):\n",
    "    \n",
    "    prompt = user_prompt_salary(job_descriptions['Description'][i])\n",
    "    \n",
    "    response = openai.chat.completions.create(\n",
    "      model=\"gpt-4o\",\n",
    "      messages=[\n",
    "        {\"role\": \"system\", \"content\": system_prompt_salary},\n",
    "        {\"role\": \"user\", \"content\": prompt}\n",
    "      ],\n",
    "      n=1,\n",
    "      temperature = 0.1\n",
    "    )\n",
    "    \n",
    "    salary_level_list.append(response.choices[0].message.content)"
   ]
  },
  {
   "cell_type": "markdown",
   "id": "8a3d0b40",
   "metadata": {},
   "source": [
    "Compiled ChatGPT output of the salary request is a list of strings. Each strings contains the salary range, a semicolon and then a number indicating the salary bucket for each job description."
   ]
  },
  {
   "cell_type": "code",
   "execution_count": 13,
   "id": "6e39ad9b",
   "metadata": {},
   "outputs": [
    {
     "name": "stdout",
     "output_type": "stream",
     "text": [
      "['$170,000 - $720,000 ; 6', '$100,000 - $720,000 ; 6', '$160,000 to $180,000 ; 4', 'Salary Range ; 0', '$129,232 - $232,617 ; 5', 'Salary Range ; 0', '$150,000 - $750,000 ; 6', '$170,000 - $720,000 ; 6', '$145,000/year to $204,000/year ; 4', 'Salary Range: $62-$65/hour ; 1', 'Salary Range: $62.94-$67.96 per hour ; 1', 'Salary Range ; 0', '$101,382—$209,296 USD ; 4', 'Salary Range ; 0', 'Salary Range ; 0', 'Salary Not Provided ; 0', '$55k-$70k ; 1', '$150,000 - $750,000 ; 6', 'Salary Range ; 0', 'Salary Range ; 0', 'Salary Range: $59,902.68 – $110,630.79 ; 2', '$45-60/hr ; 1', 'Salary Range: Salary Not Provided ; 0', '$148,617 - $267,510 ; 6', '$45.05 - $50.05/hr ; 1', 'Salary Range ; 0', '$150,000 - $205,000 ; 4', '$194,000—$240,000 USD ; 5', '$81,600 - $110,400 ; 2', 'Salary Range ; 0', 'Salary Range: Salary Not Provided ; 0', 'Salary Range ; 0', 'Salary Range: $70,907 to $147,900/year ; 2', 'Salary Range: $180K - $240K ; 5', 'Salary Range ; 0', 'Salary Range ; 0', 'Salary Range: $93,000.00 to $115,000.00 ; 2', 'Salary Range: Salary Not Provided ; 0', 'Salary Range ; 0', 'Salary Range: $128,000 - $156,400 ; 3', 'Salary Range ; 0', 'Salary Range: $110,000-$130,000 ; 2', '$123,200—$170,500 USD ; 3', 'Salary Range: $216,750 - $255,000 ; 5', '$146,400.00 - $201,300.00 ; 5', 'Salary Range Not Provided ; 0', 'Salary Range ; 0', '$130,000 – $170,000 ; 3', 'Salary Range ; 0', '$71,600 to $140,600 ; 2']\n"
     ]
    }
   ],
   "source": [
    "print(salary_level_list)"
   ]
  },
  {
   "cell_type": "markdown",
   "id": "a15bcd55",
   "metadata": {},
   "source": [
    "Final code in the salary request uses the comma to split the ChatGPT output into two seperate lists (salary and salary_bucket) and adds each array to the job_description dataframe."
   ]
  },
  {
   "cell_type": "code",
   "execution_count": null,
   "id": "b957b043",
   "metadata": {},
   "outputs": [],
   "source": [
    "# Create Empty Lists\n",
    "salary = []\n",
    "salary_bucket = []\n",
    "\n",
    "# Split each item in the list on the comma\n",
    "for item in salary_level_list:\n",
    "    parts = item.rsplit(';', 1)\n",
    "    salary.append(parts[0].strip())\n",
    "    salary_bucket.append(parts[1].strip())\n",
    "\n",
    "# Add lists to the Job Description dataframe\n",
    "job_descriptions['salary'] = salary\n",
    "job_descriptions.loc[job_descriptions['salary'] == 'Salary Range', 'salary'] = 'No Salary Provided'\n",
    "job_descriptions['salary_bucket'] = salary_bucket\n",
    "job_descriptions['salary_bucket'] = job_descriptions['salary_bucket'].astype(int)"
   ]
  },
  {
   "cell_type": "markdown",
   "id": "66c25298",
   "metadata": {},
   "source": [
    "## Extracting Techinical Skills\n",
    "\n",
    "In the final request, the prompt to ChatGPT provides a list of technical skills and requests an output indicating whether or not each technical skill is mentioned in the job description. "
   ]
  },
  {
   "cell_type": "code",
   "execution_count": 15,
   "id": "9ff80079",
   "metadata": {},
   "outputs": [],
   "source": [
    "#Prompt for System Role\n",
    "system_prompt_skills = \"\"\"You are a recruiting assistant. Your task is to identify the technical skills required within the job describtions.\n",
    "\n",
    "You are to identify whether the following technical skills are present in the job description: \n",
    "\n",
    "SQL, R, Python, A/B Testing, ETL, Data Visualization, Machine Learning, AI, BigQuery, Snowflake \"\"\""
   ]
  },
  {
   "cell_type": "code",
   "execution_count": 16,
   "id": "bdab8146",
   "metadata": {},
   "outputs": [],
   "source": [
    "#Prompt for User Role\n",
    "prompt_template_skills = lambda jobdescrip: f\"\"\"I have a job description, and I need to identify the technical skills required within the job describtions.\n",
    "\n",
    "Here are the technical skills of interest:\n",
    "\n",
    "SQL, R, Python, A/B Testing, Data Modeling, Data Visualization, Machine Learning\n",
    "\n",
    "Analyze the following job description text and determine whether the technical skills of interest are mentioned in the job description\n",
    "\n",
    "For the output, list each technical skill of interest following by a \":\" and then a \"1\" if the skill is mentioned in the job description or a \"0\" if the skill is not mentioned. \n",
    "\n",
    "Here is an example output. In this example, every technical skill of interest is present in the job description\n",
    "\n",
    "SQL:1 , R:1, Python:1, A/B Testing:1, Data Modeling:1, Data Visualization:1, Machine Learning:1\n",
    "\n",
    "### Job Description\n",
    "\n",
    "{jobdescrip}\n",
    "\n",
    "\"\"\""
   ]
  },
  {
   "cell_type": "code",
   "execution_count": 18,
   "id": "15f325bb",
   "metadata": {},
   "outputs": [],
   "source": [
    "skills_list = []\n",
    "\n",
    "# extract YoE for each resume in df\n",
    "for i in range(len(job_descriptions)):\n",
    "    \n",
    "    prompt = prompt_template_skills(job_descriptions['Description'][i])\n",
    "    \n",
    "    response = openai.chat.completions.create(\n",
    "      model=\"gpt-4o\",\n",
    "      messages=[\n",
    "        {\"role\": \"system\", \"content\": system_prompt_skills},\n",
    "        {\"role\": \"user\", \"content\": prompt}\n",
    "      ],\n",
    "      #max_tokens=1,\n",
    "      n=1,\n",
    "      temperature = 0.1\n",
    "    )\n",
    "    \n",
    "    skills_list.append(response.choices[0].message.content)"
   ]
  },
  {
   "cell_type": "markdown",
   "id": "6388191a",
   "metadata": {},
   "source": [
    "Compiled ChatGPT output is a list of strings. Each strings contains the technical skill followed by a 0 or 1, indicating whether the skill was mentioned in the job description"
   ]
  },
  {
   "cell_type": "code",
   "execution_count": 19,
   "id": "c102d0bb",
   "metadata": {},
   "outputs": [
    {
     "name": "stdout",
     "output_type": "stream",
     "text": [
      "['SQL:1, R:0, Python:1, A/B Testing:1, Data Modeling:0, Data Visualization:0, Machine Learning:0', 'SQL:0, R:0, Python:1, A/B Testing:1, Data Modeling:0, Data Visualization:0, Machine Learning:1', 'SQL:1, R:0, Python:0, A/B Testing:1, Data Modeling:0, Data Visualization:1, Machine Learning:0', 'SQL:0, R:0, Python:1, A/B Testing:0, Data Modeling:0, Data Visualization:0, Machine Learning:1', 'SQL:0, R:0, Python:1, A/B Testing:0, Data Modeling:0, Data Visualization:0, Machine Learning:1', 'SQL:0, R:1, Python:1, A/B Testing:0, Data Modeling:0, Data Visualization:0, Machine Learning:1', 'SQL:0, R:0, Python:1, A/B Testing:0, Data Modeling:0, Data Visualization:0, Machine Learning:1', 'SQL:1, R:1, Python:1, A/B Testing:0, Data Modeling:1, Data Visualization:0, Machine Learning:0', 'SQL:1, R:1, Python:1, A/B Testing:1, Data Modeling:0, Data Visualization:0, Machine Learning:1', 'SQL:0, R:0, Python:1, A/B Testing:0, Data Modeling:0, Data Visualization:0, Machine Learning:1']\n"
     ]
    }
   ],
   "source": [
    "print(skills_list[0:10])"
   ]
  },
  {
   "cell_type": "markdown",
   "id": "d169a5c8",
   "metadata": {},
   "source": [
    "Final step in the technical skills extraction is to convert the output to a dictionary and then into a dataframe. Within the dataframe each techinical skill is a column header and the rows are flags indicating whether the skill is present in the job description. The skills dataframe is then appended to the job description dataframe. "
   ]
  },
  {
   "cell_type": "code",
   "execution_count": 20,
   "id": "c9a5bd2a",
   "metadata": {},
   "outputs": [],
   "source": [
    "# Split each entry into a dict\n",
    "skills_dict = [dict(item.split(':') for item in row.split(', ')) for row in skills_list]\n",
    "\n",
    "# Convert to DataFrame\n",
    "skills_df = pd.DataFrame(skills_dict)\n",
    "\n",
    "# Convert all values to integers\n",
    "skills_df = skills_df.astype(int)\n",
    "\n",
    "# Add Skills DF to Job Description DF\n",
    "job_descriptions = pd.concat([job_descriptions, skills_df], axis=1)"
   ]
  },
  {
   "cell_type": "markdown",
   "id": "967e6369",
   "metadata": {},
   "source": [
    "## Using Extracted Data"
   ]
  },
  {
   "cell_type": "markdown",
   "id": "aa61eaf9",
   "metadata": {},
   "source": [
    "After the extractions, from job description dataframe now includes seven additional structured fields that can be used for analysis."
   ]
  },
  {
   "cell_type": "code",
   "execution_count": 21,
   "id": "d5d664ca",
   "metadata": {},
   "outputs": [
    {
     "name": "stdout",
     "output_type": "stream",
     "text": [
      "<class 'pandas.core.frame.DataFrame'>\n",
      "RangeIndex: 50 entries, 0 to 49\n",
      "Data columns (total 24 columns):\n",
      " #   Column              Non-Null Count  Dtype \n",
      "---  ------              --------------  ----- \n",
      " 0   JobID               50 non-null     int64 \n",
      " 1   Title               50 non-null     object\n",
      " 2   Company             50 non-null     object\n",
      " 3   Url                 50 non-null     object\n",
      " 4   Location            50 non-null     object\n",
      " 5   Category            50 non-null     object\n",
      " 6   SeniorityLevel      50 non-null     object\n",
      " 7   EmploymentType      50 non-null     object\n",
      " 8   JobFunction         50 non-null     object\n",
      " 9   Industries          50 non-null     object\n",
      " 10  PostedTime          50 non-null     object\n",
      " 11  PostedDate          50 non-null     object\n",
      " 12  NumApplicants       50 non-null     object\n",
      " 13  Description         50 non-null     object\n",
      " 14  exp_level           50 non-null     int64 \n",
      " 15  salary              50 non-null     object\n",
      " 16  salary_bucket       50 non-null     int64 \n",
      " 17  SQL                 50 non-null     int64 \n",
      " 18  R                   50 non-null     int64 \n",
      " 19  Python              50 non-null     int64 \n",
      " 20  A/B Testing         50 non-null     int64 \n",
      " 21  Data Modeling       50 non-null     int64 \n",
      " 22  Data Visualization  50 non-null     int64 \n",
      " 23  Machine Learning    50 non-null     int64 \n",
      "dtypes: int64(10), object(14)\n",
      "memory usage: 9.5+ KB\n",
      "None\n"
     ]
    }
   ],
   "source": [
    "print(job_descriptions.info())"
   ]
  },
  {
   "cell_type": "markdown",
   "id": "bc11f3c2",
   "metadata": {},
   "source": [
    "### Evaluating Number of Jobs by Job Experience and Salary Distribution"
   ]
  },
  {
   "cell_type": "code",
   "execution_count": null,
   "id": "e75f3482",
   "metadata": {},
   "outputs": [
    {
     "data": {
      "image/png": "[encoded data removed]",
      "text/plain": [
       "<Figure size 1000x600 with 1 Axes>"
      ]
     },
     "metadata": {},
     "output_type": "display_data"
    }
   ],
   "source": [
    "# Get Counts by Job Experience Bucket\n",
    "exp_counts = job_descriptions['exp_level'].value_counts()\n",
    "exp_counts = exp_counts.sort_index(ascending= True)\n",
    "\n",
    "# Plot the Number of Jobs by Job Experience Required\n",
    "exp_counts.plot(kind='bar')\n",
    "plt.title('Number of Jobs by Job Experience Required', fontsize=14)\n",
    "plt.xlabel('Job Experience Required', fontsize=12)\n",
    "plt.xticks(ticks=[0 ,1, 2, 3, 4], labels=['Entry Level (0-2 years)', 'Junior Level (2-5 years)', \n",
    "                                        'Mid Level (5-10 years)', 'Senior Level (10-15 years)' ,'Executive Level (15+ years)' ])\n",
    "plt.ylabel('Number of Jobs', fontsize=12)\n",
    "plt.xticks(rotation=45, ha='right')\n",
    "\n",
    "# Show plot\n",
    "plt.show()"
   ]
  },
  {
   "cell_type": "code",
   "execution_count": 51,
   "id": "fa3ee4d5",
   "metadata": {},
   "outputs": [
    {
     "name": "stdout",
     "output_type": "stream",
     "text": [
      "salary_bucket\n",
      "0    21\n",
      "1     5\n",
      "2     6\n",
      "3     3\n",
      "4     4\n",
      "5     5\n",
      "6     6\n",
      "Name: count, dtype: int64\n"
     ]
    }
   ],
   "source": [
    "salary_counts = job_descriptions['salary_bucket'].value_counts()\n",
    "salary_counts = salary_counts.sort_index(ascending= True)\n",
    "print(salary_counts)"
   ]
  },
  {
   "cell_type": "code",
   "execution_count": null,
   "id": "b8ec568d",
   "metadata": {},
   "outputs": [
    {
     "data": {
      "image/png": "[encoded data removed]",
      "text/plain": [
       "<Figure size 640x480 with 1 Axes>"
      ]
     },
     "metadata": {},
     "output_type": "display_data"
    }
   ],
   "source": [
    "# Get Counts by Salary Bucket\n",
    "salary_counts = job_descriptions['salary_bucket'].value_counts()\n",
    "salary_counts = salary_counts.sort_index(ascending= True)\n",
    "\n",
    "# Plot the Number of Jobs by Salary\n",
    "salary_counts.plot(kind='bar')\n",
    "plt.title('Number of Jobs by Salary', fontsize=14)\n",
    "plt.xlabel('Salary', fontsize=12)\n",
    "plt.xticks(ticks=[0 ,1, 2, 3, 4 , 5, 6], labels=['Salary Not Provided', '< $100K', \n",
    "                                        '\\\\$101K-$150K', '\\\\$151K-$175K' ,'\\\\$176K-$200K', '\\\\$201K-$250K', '> $250K' ])\n",
    "plt.ylabel('Number of Jobs', fontsize=12)\n",
    "plt.xticks(rotation=45, ha='right')\n",
    "\n",
    "\n",
    "# Show plot\n",
    "plt.show()"
   ]
  },
  {
   "cell_type": "markdown",
   "id": "b5346c35",
   "metadata": {},
   "source": [
    "### Identifying Most Common Technical Skills Required"
   ]
  },
  {
   "cell_type": "code",
   "execution_count": null,
   "id": "7a8208dc",
   "metadata": {},
   "outputs": [
    {
     "name": "stdout",
     "output_type": "stream",
     "text": [
      "SQL                   24\n",
      "R                     14\n",
      "Python                43\n",
      "A/B Testing            8\n",
      "Data Modeling          3\n",
      "Data Visualization    17\n",
      "Machine Learning      44\n",
      "dtype: int64\n",
      "<class 'pandas.core.series.Series'>\n"
     ]
    }
   ],
   "source": [
    "tech_skills_totals = job_descriptions[['SQL', 'R', 'Python', 'A/B Testing', 'Data Modeling', 'Data Visualization',  'Machine Learning']].sum()\n",
    "print(tech_skills_totals)\n",
    "print(type(tech_skills_totals))"
   ]
  },
  {
   "cell_type": "code",
   "execution_count": 68,
   "id": "c0401e10",
   "metadata": {},
   "outputs": [
    {
     "data": {
      "image/png": "[encoded data removed]",
      "text/plain": [
       "<Figure size 640x480 with 1 Axes>"
      ]
     },
     "metadata": {},
     "output_type": "display_data"
    }
   ],
   "source": [
    "tech_skills_totals = job_descriptions[['SQL', 'R', 'Python', 'A/B Testing', 'Data Modeling', 'Data Visualization',  'Machine Learning']].sum()\n",
    "\n",
    "# Plot the Number of Jobs for Each Tech Skill\n",
    "tech_skills_totals.plot(kind='bar')\n",
    "plt.title('Number of Jobs by Technical Skill', fontsize=14)\n",
    "plt.xlabel('Technical Skill', fontsize=12)\n",
    "#plt.xticks(ticks=[0 ,1, 2, 3, 4 , 5, 6], labels=['Salary Not Provided', '< $100K', \n",
    "#                                        '\\\\$101K-$150K', '\\\\$151K-$175K' ,'\\\\$176K-$200K', '\\\\$201K-$250K', '> $250K' ])\n",
    "plt.ylabel('Number of Jobs', fontsize=12)\n",
    "plt.xticks(rotation=45, ha='right')\n",
    "\n",
    "\n",
    "# Show plot\n",
    "plt.show()"
   ]
  },
  {
   "cell_type": "markdown",
   "id": "f4a93615",
   "metadata": {},
   "source": [
    "### Filtering By Technical Skills Required, Sort by Salary"
   ]
  },
  {
   "cell_type": "code",
   "execution_count": null,
   "id": "61071580",
   "metadata": {},
   "outputs": [
    {
     "data": {
      "text/html": [
       "<div>\n",
       "<style scoped>\n",
       "    .dataframe tbody tr th:only-of-type {\n",
       "        vertical-align: middle;\n",
       "    }\n",
       "\n",
       "    .dataframe tbody tr th {\n",
       "        vertical-align: top;\n",
       "    }\n",
       "\n",
       "    .dataframe thead th {\n",
       "        text-align: right;\n",
       "    }\n",
       "</style>\n",
       "<table border=\"1\" class=\"dataframe\">\n",
       "  <thead>\n",
       "    <tr style=\"text-align: right;\">\n",
       "      <th></th>\n",
       "      <th>Title</th>\n",
       "      <th>Company</th>\n",
       "      <th>salary</th>\n",
       "      <th>salary_bucket</th>\n",
       "      <th>A/B Testing</th>\n",
       "      <th>Url</th>\n",
       "    </tr>\n",
       "  </thead>\n",
       "  <tbody>\n",
       "    <tr>\n",
       "      <th>0</th>\n",
       "      <td>Data Scientist (L5) - App QoE</td>\n",
       "      <td>Netflix</td>\n",
       "      <td>$170,000 - $720,000</td>\n",
       "      <td>6</td>\n",
       "      <td>1</td>\n",
       "      <td>https://www.linkedin.com/jobs/view/data-scientist-l5-app-qoe-at-netflix-4208340911</td>\n",
       "    </tr>\n",
       "    <tr>\n",
       "      <th>1</th>\n",
       "      <td>Machine Learning Engineer</td>\n",
       "      <td>Netflix</td>\n",
       "      <td>$100,000 - $720,000</td>\n",
       "      <td>6</td>\n",
       "      <td>1</td>\n",
       "      <td>https://www.linkedin.com/jobs/view/machine-learning-engineer-at-netflix-4118831761</td>\n",
       "    </tr>\n",
       "    <tr>\n",
       "      <th>2</th>\n",
       "      <td>Data Scientist, Analytics</td>\n",
       "      <td>Discord</td>\n",
       "      <td>$160,000 to $180,000</td>\n",
       "      <td>4</td>\n",
       "      <td>1</td>\n",
       "      <td>https://www.linkedin.com/jobs/view/data-scientist-analytics-at-discord-4222400361</td>\n",
       "    </tr>\n",
       "    <tr>\n",
       "      <th>8</th>\n",
       "      <td>Data Scientist, Product Analytics</td>\n",
       "      <td>Meta</td>\n",
       "      <td>$145,000/year to $204,000/year</td>\n",
       "      <td>4</td>\n",
       "      <td>1</td>\n",
       "      <td>https://www.linkedin.com/jobs/view/data-scientist-product-analytics-at-meta-4182238808</td>\n",
       "    </tr>\n",
       "    <tr>\n",
       "      <th>47</th>\n",
       "      <td>Machine Learning Engineer</td>\n",
       "      <td>The Phoenix Group</td>\n",
       "      <td>$130,000 – $170,000</td>\n",
       "      <td>3</td>\n",
       "      <td>1</td>\n",
       "      <td>https://www.linkedin.com/jobs/view/machine-learning-engineer-at-the-phoenix-group-4224749425</td>\n",
       "    </tr>\n",
       "    <tr>\n",
       "      <th>16</th>\n",
       "      <td>Data Scientist</td>\n",
       "      <td>ImpetusIT</td>\n",
       "      <td>$55k-$70k</td>\n",
       "      <td>1</td>\n",
       "      <td>1</td>\n",
       "      <td>https://www.linkedin.com/jobs/view/data-scientist-at-impetusit-4225049438</td>\n",
       "    </tr>\n",
       "    <tr>\n",
       "      <th>29</th>\n",
       "      <td>Data Scientist</td>\n",
       "      <td>Super.com</td>\n",
       "      <td>No Salary Provided</td>\n",
       "      <td>0</td>\n",
       "      <td>1</td>\n",
       "      <td>https://www.linkedin.com/jobs/view/data-scientist-at-super-com-4225916439</td>\n",
       "    </tr>\n",
       "    <tr>\n",
       "      <th>34</th>\n",
       "      <td>Remote Data Scientist</td>\n",
       "      <td>Lensa</td>\n",
       "      <td>No Salary Provided</td>\n",
       "      <td>0</td>\n",
       "      <td>1</td>\n",
       "      <td>https://www.linkedin.com/jobs/view/remote-data-scientist-at-lensa-4225842655</td>\n",
       "    </tr>\n",
       "  </tbody>\n",
       "</table>\n",
       "</div>"
      ],
      "text/plain": [
       "                                Title            Company  \\\n",
       "0       Data Scientist (L5) - App QoE            Netflix   \n",
       "1           Machine Learning Engineer            Netflix   \n",
       "2           Data Scientist, Analytics            Discord   \n",
       "8   Data Scientist, Product Analytics               Meta   \n",
       "47          Machine Learning Engineer  The Phoenix Group   \n",
       "16                     Data Scientist          ImpetusIT   \n",
       "29                     Data Scientist          Super.com   \n",
       "34              Remote Data Scientist              Lensa   \n",
       "\n",
       "                            salary  salary_bucket  A/B Testing  \\\n",
       "0              $170,000 - $720,000              6            1   \n",
       "1              $100,000 - $720,000              6            1   \n",
       "2             $160,000 to $180,000              4            1   \n",
       "8   $145,000/year to $204,000/year              4            1   \n",
       "47             $130,000 – $170,000              3            1   \n",
       "16                       $55k-$70k              1            1   \n",
       "29              No Salary Provided              0            1   \n",
       "34              No Salary Provided              0            1   \n",
       "\n",
       "                                                                                             Url  \n",
       "0             https://www.linkedin.com/jobs/view/data-scientist-l5-app-qoe-at-netflix-4208340911  \n",
       "1             https://www.linkedin.com/jobs/view/machine-learning-engineer-at-netflix-4118831761  \n",
       "2              https://www.linkedin.com/jobs/view/data-scientist-analytics-at-discord-4222400361  \n",
       "8         https://www.linkedin.com/jobs/view/data-scientist-product-analytics-at-meta-4182238808  \n",
       "47  https://www.linkedin.com/jobs/view/machine-learning-engineer-at-the-phoenix-group-4224749425  \n",
       "16                     https://www.linkedin.com/jobs/view/data-scientist-at-impetusit-4225049438  \n",
       "29                     https://www.linkedin.com/jobs/view/data-scientist-at-super-com-4225916439  \n",
       "34                  https://www.linkedin.com/jobs/view/remote-data-scientist-at-lensa-4225842655  "
      ]
     },
     "execution_count": 93,
     "metadata": {},
     "output_type": "execute_result"
    }
   ],
   "source": [
    "pd.set_option('display.max_colwidth', None)\n",
    "job_descriptions[job_descriptions[\"A/B Testing\"] == 1 ][[\"Title\", \"Company\", \"salary\" , \"salary_bucket\", \"A/B Testing\", \"Url\",]].sort_values(\"salary_bucket\", ascending = False)"
   ]
  }
 ],
 "metadata": {
  "kernelspec": {
   "display_name": "Python 3",
   "language": "python",
   "name": "python3"
  },
  "language_info": {
   "codemirror_mode": {
    "name": "ipython",
    "version": 3
   },
   "file_extension": ".py",
   "mimetype": "text/x-python",
   "name": "python",
   "nbconvert_exporter": "python",
   "pygments_lexer": "ipython3",
   "version": "3.12.1"
  }
 },
 "nbformat": 4,
 "nbformat_minor": 5
}
