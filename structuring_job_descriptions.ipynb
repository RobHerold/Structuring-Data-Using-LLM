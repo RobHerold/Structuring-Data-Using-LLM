{
 "cells": [
  {
   "cell_type": "markdown",
   "id": "1b1f84ba",
   "metadata": {},
   "source": [
    "# Structuring Unstructered Data Using ChatGPT"
   ]
  },
  {
   "cell_type": "code",
   "execution_count": 2,
   "id": "90ba86d8",
   "metadata": {},
   "outputs": [],
   "source": [
    "import pandas as pd\n",
    "import numpy as np\n",
    "import openai"
   ]
  },
  {
   "cell_type": "code",
   "execution_count": 3,
   "id": "d49d38b5",
   "metadata": {},
   "outputs": [],
   "source": [
    "job_descriptions = pd.read_csv('linkedin_data_scientist_job_descriptions.csv') "
   ]
  },
  {
   "cell_type": "markdown",
   "id": "411a86da",
   "metadata": {},
   "source": [
    "Initial file contains 50 Remote Data Scientist job descriptions from LinkedIn.  \n",
    "The fields include data that is structured within the job descriptions as well as the unstructured \"Description\" field that contains the text description of the job."
   ]
  },
  {
   "cell_type": "code",
   "execution_count": 4,
   "id": "27bc476f",
   "metadata": {},
   "outputs": [
    {
     "name": "stdout",
     "output_type": "stream",
     "text": [
      "<class 'pandas.core.frame.DataFrame'>\n",
      "RangeIndex: 50 entries, 0 to 49\n",
      "Data columns (total 14 columns):\n",
      " #   Column          Non-Null Count  Dtype \n",
      "---  ------          --------------  ----- \n",
      " 0   JobID           50 non-null     int64 \n",
      " 1   Title           50 non-null     object\n",
      " 2   Company         50 non-null     object\n",
      " 3   Url             50 non-null     object\n",
      " 4   Location        50 non-null     object\n",
      " 5   Category        50 non-null     object\n",
      " 6   SeniorityLevel  50 non-null     object\n",
      " 7   EmploymentType  50 non-null     object\n",
      " 8   JobFunction     50 non-null     object\n",
      " 9   Industries      50 non-null     object\n",
      " 10  PostedTime      50 non-null     object\n",
      " 11  PostedDate      50 non-null     object\n",
      " 12  NumApplicants   50 non-null     object\n",
      " 13  Description     50 non-null     object\n",
      "dtypes: int64(1), object(13)\n",
      "memory usage: 5.6+ KB\n"
     ]
    }
   ],
   "source": [
    "job_descriptions.info()"
   ]
  },
  {
   "cell_type": "markdown",
   "id": "13c46bd9",
   "metadata": {},
   "source": [
    "In order to extract more structured data from the job description, the following code passes the \"description\" text field to ChatGPT along with specific instructions on what data to extract and how to format the results. \n",
    "\n",
    "There are three different sections, each focusing on extracting a different set of data: \n",
    "1. Required Job Experience\n",
    "2. Salary\n",
    "3. Technical Skills"
   ]
  },
  {
   "cell_type": "markdown",
   "id": "7ddda15d",
   "metadata": {},
   "source": [
    "## Process and Prompts"
   ]
  },
  {
   "cell_type": "markdown",
   "id": "4b72edc1",
   "metadata": {},
   "source": [
    "In order to access the Open AI API, first provide the api_key."
   ]
  },
  {
   "cell_type": "code",
   "execution_count": null,
   "id": "2e26c3da",
   "metadata": {},
   "outputs": [],
   "source": [
    "openai.api_key = key"
   ]
  },
  {
   "cell_type": "markdown",
   "id": "2ab31335",
   "metadata": {},
   "source": [
    "For each session/conversation with ChatGPT, there is a \"System\" and a \"User\" role. For each session a prompt is provided for both roles. Below is a description of each role according to ChatGPT.\n",
    "  \n",
    "System Role - Used to define the behavior, personality, or context of the assistant before the actual conversation starts. The purpose of the systems prompt is to set the initial instructions for the assistant and help steer the tone, expertise, boundaries or other aspects of how the assistant should respond. It is submitted once per conversions/session.  \n",
    "\n",
    "User Role - Represents input from the end user. It is the prompt or question that the system is expected to respond to. The \"user_prompt\" in the code below is written to be submitted with each job description."
   ]
  },
  {
   "cell_type": "markdown",
   "id": "f22c8add",
   "metadata": {},
   "source": [
    "## Extracting Job Experience Requirement\n",
    "\n",
    "This first request from ChatGPT is to classify job descriptions into one of five experience level buckets based on the number of years of professional experience listed in the job description.  \n",
    "The requestd output is a single digit between 1-5 indicating the experience level based on the rubric provided in the prompt."
   ]
  },
  {
   "cell_type": "code",
   "execution_count": null,
   "id": "bd50a4d9",
   "metadata": {},
   "outputs": [],
   "source": [
    "#Prompt for System Role\n",
    "system_prompt_exp = \"\"\"You are a recruiting assistant. Your task is to classify job descriptions into one of five experience level buckets based on the number of years of professional experience listed in the job description.\n",
    "\n",
    "The experience level buckets are:\n",
    "\n",
    "1. Entry Level (0-2 years)\n",
    "2. Junior Level (2-5 years)\n",
    "3. Mid Level (5-10 years)\n",
    "4. Senior Level (10-15 years)\n",
    "5. Executive Level (15+ years)\n",
    "\n",
    "When given a job description, analyze the text to determine the total years of professional experience and classify the resume into the appropriate experience level bucket.\"\"\"\n"
   ]
  },
  {
   "cell_type": "code",
   "execution_count": null,
   "id": "79214db2",
   "metadata": {},
   "outputs": [],
   "source": [
    "#Prompt for User Role\n",
    "user_prompt_exp = lambda jobdescrip: f\"\"\"I have a job description, and I need to identify the required experience level. Here are the experience level buckets:\n",
    "\n",
    "1 = Entry Level (0-2 years)\n",
    "2 = Junior Level (2-5 years)\n",
    "3 = Mid Level (5-10 years)\n",
    "4 = Senior Level (10-15 years)\n",
    "5 = Executive Level (15+ years)\n",
    "\n",
    "Please analyze the following job description text and identify the desired experience level. Ensure your response is a single digit between 1-5 indicating the experience level based on the above rubric.\n",
    "\n",
    "### Job Description\n",
    "\n",
    "{jobdescrip}\n",
    "\n",
    "\"\"\""
   ]
  },
  {
   "cell_type": "markdown",
   "id": "4b5a7793",
   "metadata": {},
   "source": [
    "Following code loops through each job description, prompts ChatGPT to extract the requested data and compiles the ChatGPT output."
   ]
  },
  {
   "cell_type": "code",
   "execution_count": null,
   "id": "7b2581de",
   "metadata": {},
   "outputs": [],
   "source": [
    "exp_level_list = []\n",
    "\n",
    "# Extract Experience Data for Each JD\n",
    "for i in range(len(job_descriptions)):\n",
    "    \n",
    "    prompt = user_prompt_exp(job_descriptions['Description'][i])\n",
    "    \n",
    "    response = openai.chat.completions.create(\n",
    "      model=\"gpt-4o\",\n",
    "      messages=[\n",
    "        {\"role\": \"system\", \"content\": system_prompt_exp},\n",
    "        {\"role\": \"user\", \"content\": prompt}\n",
    "      ],\n",
    "      n=1,\n",
    "      temperature = 0.1\n",
    "    )\n",
    "    \n",
    "    exp_level_list.append(response.choices[0].message.content)"
   ]
  },
  {
   "cell_type": "markdown",
   "id": "2d80a784",
   "metadata": {},
   "source": [
    "Compiled output from the job experience request is a list of numbers (output as strings) indicating the level of required experience within each job description"
   ]
  },
  {
   "cell_type": "code",
   "execution_count": null,
   "id": "27b5d27f",
   "metadata": {},
   "outputs": [],
   "source": [
    "print(exp_level_list[10])"
   ]
  },
  {
   "cell_type": "markdown",
   "id": "c6f8ea2f",
   "metadata": {},
   "source": [
    "Final step in the job experience request is to convert the compiled ChatGPT output to integers and then add it to the job_description dataframe"
   ]
  },
  {
   "cell_type": "code",
   "execution_count": null,
   "id": "8f09a0ce",
   "metadata": {},
   "outputs": [],
   "source": [
    "exp_level_arr = np.array(exp_level_list).astype(int)\n",
    "job_descriptions['exp_level'] = exp_level_arr"
   ]
  },
  {
   "cell_type": "markdown",
   "id": "436864c5",
   "metadata": {},
   "source": [
    "## Extracting Salary\n",
    "\n",
    "Similar to the job experience request, the salary request ask ChatGPT to classify each job description into salary buckets. In addition, the prompt requests that ChatGPT returns the salary range provided in the job description. There are specfic instructions on how to output the data so it can easily be parsed and added to the job description dataframe.   "
   ]
  },
  {
   "cell_type": "code",
   "execution_count": null,
   "id": "c9421aac",
   "metadata": {},
   "outputs": [],
   "source": [
    "#Prompt for System Role\n",
    "system_prompt_salary = \"\"\"You are a recruiting assistant. Your task is to classify job decriptions into one of five salary level buckets based on the salary range listed in the job description. \n",
    "\n",
    "Classify the salary based on the upper bound of salary range provided in the job description.\n",
    "\n",
    "The experience level buckets are:\n",
    "\n",
    "0. Salary Not Provided\n",
    "1. < $100K\n",
    "2. $101K-$150K\n",
    "3. $151K-$175K\n",
    "4. $176K-$200K\n",
    "5. $201K-$250K\n",
    "6. > $250K\n",
    "\n",
    "When given a job description, analyze the text to determine the total years of professional experience and classify the resume into the appropriate experience level bucket.\"\"\""
   ]
  },
  {
   "cell_type": "code",
   "execution_count": null,
   "id": "53783501",
   "metadata": {},
   "outputs": [],
   "source": [
    "#Prompt for User Role\n",
    "user_prompt_salary = lambda jobdescrip: f\"\"\"I have a job description, and I need to identify the salary level provided in the description. Here are the salary buckets:\n",
    "\n",
    "0 = Salary Not Provided\n",
    "1 = < $100K\n",
    "2 = $101K-$150K\n",
    "3 = $151K-$175K\n",
    "4 = $176K-$200K\n",
    "5 = $201K-$250K\n",
    "6 = > $250K\n",
    "\n",
    "Analyze the following job description text and identify the salary. \n",
    "\n",
    "Provide two outputs:\n",
    "1. Provide the salary range given in the job description\n",
    "2. Provide the single digit between 0-6 indicating the salary level based on the above rubric.\n",
    "\n",
    "Format the outputs as follows: \n",
    "\n",
    "Salary Range, Single Digit Indicator\n",
    "\n",
    "### Job Description\n",
    "\n",
    "{jobdescrip}\n",
    "\"\"\""
   ]
  },
  {
   "cell_type": "markdown",
   "id": "a2875d89",
   "metadata": {},
   "source": [
    "As with the job experience request, the following code loops through each job description, prompts ChatGPT to extract the requested data and compiles the ChatGPT output."
   ]
  },
  {
   "cell_type": "code",
   "execution_count": null,
   "id": "c0aafec8",
   "metadata": {},
   "outputs": [],
   "source": [
    "salary_level_list = []\n",
    "\n",
    "# Extract Salary Data for Each JD\n",
    "for i in range(len(job_descriptions)):\n",
    "    \n",
    "    prompt = user_prompt_salary(job_descriptions['Description'][i])\n",
    "    \n",
    "    response = openai.chat.completions.create(\n",
    "      model=\"gpt-4o\",\n",
    "      messages=[\n",
    "        {\"role\": \"system\", \"content\": system_prompt_salary},\n",
    "        {\"role\": \"user\", \"content\": prompt}\n",
    "      ],\n",
    "      n=1,\n",
    "      temperature = 0.1\n",
    "    )\n",
    "    \n",
    "    salary_level_list.append(response.choices[0].message.content)"
   ]
  },
  {
   "cell_type": "markdown",
   "id": "8a3d0b40",
   "metadata": {},
   "source": [
    "Compiled ChatGPT output of the salary request is a list of strings. Each strings contains the salary range, a comma and then a number indicating the salary bucket for each job description."
   ]
  },
  {
   "cell_type": "code",
   "execution_count": 13,
   "id": "6e39ad9b",
   "metadata": {},
   "outputs": [
    {
     "name": "stdout",
     "output_type": "stream",
     "text": [
      "['$170,000 - $720,000, 6', '$100,000 - $720,000, 6', '$160,000 to $180,000, 4', 'Salary Range Not Provided, 0', '$129,232 - $232,617, 5', 'Salary Range: Salary Not Provided, Single Digit Indicator: 0', '$150,000 - $750,000, 6', '$170,000 - $720,000, 6', '$145,000/year to $204,000/year, 4', 'Salary Range: $62-$65/hour, Single Digit Indicator: 1\\n\\n(Note: Assuming a 40-hour work week and 52 weeks per year, the annual salary would be approximately $129,480, which falls into the $101K-$150K range.)', 'Salary Range: $62.94-$67.96 per hour, Single Digit Indicator: 1', 'Salary Range: Salary Not Provided, Single Digit Indicator: 0', '$101,382—$209,296, 4', 'Salary Range Not Provided, 0', 'Salary Range: Salary Not Provided, Single Digit Indicator: 0', 'Salary Range Not Provided, 0', '$55K-$70K, 1', '$150,000 - $750,000, 6', 'Salary Range: Salary Not Provided, Single Digit Indicator: 0', 'Salary Range: Salary Not Provided, Single Digit Indicator: 0', '$59,902.68 – $110,630.79, 2', '$45-60/hr, 1', 'Salary Range: Salary Not Provided, Single Digit Indicator: 0', '$148,617 - $267,510, 6', 'Salary Range: $45.05 - $50.05/hr, Single Digit Indicator: 1\\n\\nTo convert the hourly rate to an annual salary, we assume a full-time schedule of 40 hours per week and 52 weeks per year. \\n\\n$50.05/hr * 40 hours/week * 52 weeks/year = $104,104\\n\\nSince the upper bound of the salary range is $104,104, it falls into the $101K-$150K bucket.', 'Salary Range Not Provided, 0', '$150,000 - $205,000, 4', '$194,000—$240,000, 5', '$81,600 - $110,400, 2', 'Salary Range: Salary Not Provided, Single Digit Indicator: 0', 'Salary Range: Salary Not Provided, Single Digit Indicator: 0', 'Salary Range: Salary Not Provided, Single Digit Indicator: 0', '$70,907 to $147,900/year, 2', '$180K - $240K, 5', 'Salary Range: Salary Not Provided, Single Digit Indicator: 0', 'Salary Range: Salary Not Provided, Single Digit Indicator: 0', '$93,000.00 to $115,000.00, 2', 'Salary Range: Salary Not Provided, Single Digit Indicator: 0', 'Salary Not Provided, 0', '$128,000 - $156,400, 3', 'Salary Not Provided, 0', '$110,000-$130,000, 2', '$123,200—$170,500, 3', 'Salary Range: $216,750 - $255,000, Single Digit Indicator: 6', '$146,400.00 - $201,300.00, 4', 'Salary Not Provided, 0', 'Salary Range: Salary Not Provided, Single Digit Indicator: 0', '$130,000 – $170,000, 3', 'Salary Range: Not Provided, 0', '$71,600 to $140,600, 2']\n"
     ]
    }
   ],
   "source": [
    "print(salary_level_list)"
   ]
  },
  {
   "cell_type": "markdown",
   "id": "a15bcd55",
   "metadata": {},
   "source": [
    "Final code in the salary request uses the comma to split the ChatGPT output into two seperate lists (salary and salary_bucket) and adds each array to the job_description dataframe."
   ]
  },
  {
   "cell_type": "code",
   "execution_count": null,
   "id": "b957b043",
   "metadata": {},
   "outputs": [],
   "source": [
    "# Create Empty Lists\n",
    "salary = []\n",
    "salary_bucket = []\n",
    "\n",
    "# Split each item in the list on the comma\n",
    "for item in salary_level_list:\n",
    "    parts = item.rsplit(',', 1)\n",
    "    salary.append(parts[0].strip())\n",
    "    salary_bucket.append(parts[1].strip())\n",
    "\n",
    "# Add lists to the Job Description dataframe\n",
    "job_descriptions['salary'] = salary\n",
    "job_descriptions['salary_bucket'] = salary_bucket\n",
    "job_descriptions['salary_bucket'] = job_descriptions['salary_bucket'].astype(int)"
   ]
  },
  {
   "cell_type": "markdown",
   "id": "66c25298",
   "metadata": {},
   "source": [
    "## Extracting Techinical Skills\n",
    "\n",
    "In the final request, the prompt to ChatGPT provides a list of technical skills and requests an output indicating whether or not each technical skill is mentioned in the job description. "
   ]
  },
  {
   "cell_type": "code",
   "execution_count": null,
   "id": "9ff80079",
   "metadata": {},
   "outputs": [],
   "source": [
    "#Prompt for System Role\n",
    "system_prompt_skills = \"\"\"You are a recruiting assistant. Your task is to identify the technical skills required within the job describtions.\n",
    "\n",
    "You are to identify whether the following technical skills are present in the job description: \n",
    "\n",
    "SQL, R, Python, A/B Testing, ETL, Data Visualization, Machine Learning, AI, BigQuery, Snowflake \"\"\""
   ]
  },
  {
   "cell_type": "code",
   "execution_count": null,
   "id": "bdab8146",
   "metadata": {},
   "outputs": [],
   "source": [
    "#Prompt for User Role\n",
    "prompt_template_skills = lambda jobdescrip: f\"\"\"I have a job description, and I need to identify the technical skills required within the job describtions.\n",
    "\n",
    "Here are the technical skills of interest:\n",
    "\n",
    "SQL, R, Python, A/B Testing, Data Modeling, Data Visualization, Machine Learning\n",
    "\n",
    "Analyze the following job description text and determine whether the technical skills of interest are mentioned in the job description\n",
    "\n",
    "For the output, list each technical skill of interest following by a \":\" and then a \"1\" if the skill is mentioned in the job description or a \"0\" if the skill is not mentioned. \n",
    "\n",
    "Here is an example output. In this example, every technical skill of interest is present in the job description\n",
    "\n",
    "SQL:1 , R:1, Python:1, A/B Testing:1, Data Modeling:1, Data Visualization:1, Machine Learning:1\n",
    "\n",
    "### Job Description\n",
    "\n",
    "{jobdescrip}\n",
    "\n",
    "\"\"\""
   ]
  },
  {
   "cell_type": "code",
   "execution_count": null,
   "id": "15f325bb",
   "metadata": {},
   "outputs": [],
   "source": [
    "skills_list = []\n",
    "\n",
    "# extract YoE for each resume in df\n",
    "for i in range(len(df_jobs10)):\n",
    "    \n",
    "    prompt = prompt_template_skills(df_jobs10['Description'][i])\n",
    "    \n",
    "    response = openai.chat.completions.create(\n",
    "      model=\"gpt-4o\",\n",
    "      messages=[\n",
    "        {\"role\": \"system\", \"content\": system_prompt_skills},\n",
    "        {\"role\": \"user\", \"content\": prompt}\n",
    "      ],\n",
    "      #max_tokens=1,\n",
    "      n=1,\n",
    "      temperature = 0.1\n",
    "    )\n",
    "    \n",
    "    skills_list.append(response.choices[0].message.content)"
   ]
  },
  {
   "cell_type": "markdown",
   "id": "6388191a",
   "metadata": {},
   "source": [
    "Compiled ChatGPT output is a list of strings. Each strings contains the technical skill followed by a 0 or 1, indicating whether the skill was mentioned in the job description"
   ]
  },
  {
   "cell_type": "code",
   "execution_count": null,
   "id": "c102d0bb",
   "metadata": {},
   "outputs": [],
   "source": [
    "print(skills_list[10])"
   ]
  },
  {
   "cell_type": "markdown",
   "id": "d169a5c8",
   "metadata": {},
   "source": [
    "Final step in the technical skills extraction is to convert the output to a dictionary and then into a dataframe. Within the dataframe each techinical skill is a column header and the rows are flags indicating whether the skill is present in the job description. The skills dataframe is then appended to the job description dataframe. "
   ]
  },
  {
   "cell_type": "code",
   "execution_count": null,
   "id": "c9a5bd2a",
   "metadata": {},
   "outputs": [],
   "source": [
    "# Split each entry into a dict\n",
    "skills_dict = [dict(item.split(':') for item in row.split(', ')) for row in skills_list]\n",
    "\n",
    "# Convert to DataFrame\n",
    "skills_df = pd.DataFrame(skills_dict)\n",
    "\n",
    "# Convert all values to integers\n",
    "skills_df = skills_df.astype(int)\n",
    "\n",
    "# Add Skills DF to Job Description DF\n",
    "job_descriptions = pd.concat([job_descriptions, skills_df], axis=1)"
   ]
  },
  {
   "cell_type": "markdown",
   "id": "967e6369",
   "metadata": {},
   "source": [
    "## Using Extracted Data"
   ]
  },
  {
   "cell_type": "markdown",
   "id": "aa61eaf9",
   "metadata": {},
   "source": [
    "After the extractions, from job description dataframe now includes seven additional structured fields that can be used for analysis."
   ]
  },
  {
   "cell_type": "markdown",
   "id": "bc11f3c2",
   "metadata": {},
   "source": [
    "### Evaluating Job Experience and Salary Distribution"
   ]
  },
  {
   "cell_type": "markdown",
   "id": "b5346c35",
   "metadata": {},
   "source": [
    "### Identifying Most Common Technical Skills Required"
   ]
  },
  {
   "cell_type": "markdown",
   "id": "f4a93615",
   "metadata": {},
   "source": [
    "### Filtering By Technical Skills Required"
   ]
  },
  {
   "cell_type": "markdown",
   "id": "3d7addaf",
   "metadata": {},
   "source": [
    "### Sorting to Identify Highest Paying Jobs"
   ]
  }
 ],
 "metadata": {
  "kernelspec": {
   "display_name": "Python 3",
   "language": "python",
   "name": "python3"
  },
  "language_info": {
   "codemirror_mode": {
    "name": "ipython",
    "version": 3
   },
   "file_extension": ".py",
   "mimetype": "text/x-python",
   "name": "python",
   "nbconvert_exporter": "python",
   "pygments_lexer": "ipython3",
   "version": "3.12.1"
  }
 },
 "nbformat": 4,
 "nbformat_minor": 5
}
